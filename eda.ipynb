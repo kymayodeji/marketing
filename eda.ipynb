{
 "cells": [
  {
   "cell_type": "markdown",
   "metadata": {},
   "source": [
    "## Marketing Exploratory Data Analysis\n",
    "### Notebook by Kymberly Ayodeji\n",
    "\n",
    "### Step 0: Install Libraries and Packages"
   ]
  },
  {
   "cell_type": "code",
   "execution_count": 108,
   "metadata": {},
   "outputs": [],
   "source": [
    "# Basic Numerical Libraries\n",
    "import pandas as pd\n",
    "import numpy as np\n",
    "\n",
    "# Graphing Libraries\n",
    "import matplotlib.pyplot as plt\n",
    "import seaborn as sns\n",
    "%matplotlib inline\n"
   ]
  },
  {
   "cell_type": "markdown",
   "metadata": {},
   "source": [
    "### Step 1: Load Data"
   ]
  },
  {
   "cell_type": "code",
   "execution_count": 109,
   "metadata": {},
   "outputs": [
    {
     "name": "stdout",
     "output_type": "stream",
     "text": [
      "<class 'pandas.core.frame.DataFrame'>\n",
      "RangeIndex: 69659 entries, 0 to 69658\n",
      "Data columns (total 4 columns):\n",
      " #   Column       Non-Null Count  Dtype  \n",
      "---  ------       --------------  -----  \n",
      " 0   customer_id  69659 non-null  int64  \n",
      " 1   date         69659 non-null  int64  \n",
      " 2   quantity     69659 non-null  int64  \n",
      " 3   price        69659 non-null  float64\n",
      "dtypes: float64(1), int64(3)\n",
      "memory usage: 2.1 MB\n"
     ]
    },
    {
     "name": "stderr",
     "output_type": "stream",
     "text": [
      "<>:1: SyntaxWarning: invalid escape sequence '\\s'\n",
      "<>:1: SyntaxWarning: invalid escape sequence '\\s'\n",
      "C:\\Users\\kymno\\AppData\\Local\\Temp\\ipykernel_11504\\1906795430.py:1: SyntaxWarning: invalid escape sequence '\\s'\n",
      "  data = pd.read_csv(\"data/CDNOW_master.txt\", sep=\"\\s+\", names=[\"customer_id\", \"date\", \"quantity\", \"price\"])\n"
     ]
    }
   ],
   "source": [
    "data = pd.read_csv(\"data/CDNOW_master.txt\", sep=\"\\s+\", names=[\"customer_id\", \"date\", \"quantity\", \"price\"])\n",
    "data.info()"
   ]
  },
  {
   "cell_type": "markdown",
   "metadata": {},
   "source": [
    "#### 1.0: Notes:\n",
    "* 69,659 rows and 4 columns\n",
    "* No null entries\n",
    "* date column is of type int65 and will need to be converted to datetime"
   ]
  },
  {
   "cell_type": "code",
   "execution_count": 110,
   "metadata": {},
   "outputs": [
    {
     "name": "stdout",
     "output_type": "stream",
     "text": [
      "<class 'pandas.core.frame.DataFrame'>\n",
      "RangeIndex: 69659 entries, 0 to 69658\n",
      "Data columns (total 4 columns):\n",
      " #   Column       Non-Null Count  Dtype         \n",
      "---  ------       --------------  -----         \n",
      " 0   customer_id  69659 non-null  int64         \n",
      " 1   date         69659 non-null  datetime64[ns]\n",
      " 2   quantity     69659 non-null  int64         \n",
      " 3   price        69659 non-null  float64       \n",
      "dtypes: datetime64[ns](1), float64(1), int64(2)\n",
      "memory usage: 2.1 MB\n"
     ]
    }
   ],
   "source": [
    "# Convert date column to string and then to datetime object\n",
    "data = data \\\n",
    "    .assign(date = lambda x: x['date'].astype(str)) \\\n",
    "    .assign(date = lambda x: pd.to_datetime(x['date'])) \n",
    "data.info()"
   ]
  },
  {
   "cell_type": "markdown",
   "metadata": {},
   "source": [
    "### 2.0 Initial Exploratory Analysis\n",
    "- 2.1 Numerical descriptions\n",
    "- 2.2 Graphical distributions\n",
    "- 2.3 Handling of any outliers\n",
    "- 2.4 Correlation Analysis"
   ]
  },
  {
   "cell_type": "code",
   "execution_count": 111,
   "metadata": {},
   "outputs": [
    {
     "data": {
      "text/html": [
       "<div>\n",
       "<style scoped>\n",
       "    .dataframe tbody tr th:only-of-type {\n",
       "        vertical-align: middle;\n",
       "    }\n",
       "\n",
       "    .dataframe tbody tr th {\n",
       "        vertical-align: top;\n",
       "    }\n",
       "\n",
       "    .dataframe thead th {\n",
       "        text-align: right;\n",
       "    }\n",
       "</style>\n",
       "<table border=\"1\" class=\"dataframe\">\n",
       "  <thead>\n",
       "    <tr style=\"text-align: right;\">\n",
       "      <th></th>\n",
       "      <th>count</th>\n",
       "      <th>mean</th>\n",
       "      <th>std</th>\n",
       "      <th>min</th>\n",
       "      <th>25%</th>\n",
       "      <th>50%</th>\n",
       "      <th>75%</th>\n",
       "      <th>max</th>\n",
       "    </tr>\n",
       "  </thead>\n",
       "  <tbody>\n",
       "    <tr>\n",
       "      <th>quantity</th>\n",
       "      <td>69659.0</td>\n",
       "      <td>2.410040</td>\n",
       "      <td>2.333924</td>\n",
       "      <td>1.0</td>\n",
       "      <td>1.00</td>\n",
       "      <td>2.00</td>\n",
       "      <td>3.0</td>\n",
       "      <td>99.00</td>\n",
       "    </tr>\n",
       "    <tr>\n",
       "      <th>price</th>\n",
       "      <td>69659.0</td>\n",
       "      <td>35.893648</td>\n",
       "      <td>36.281942</td>\n",
       "      <td>0.0</td>\n",
       "      <td>14.49</td>\n",
       "      <td>25.98</td>\n",
       "      <td>43.7</td>\n",
       "      <td>1286.01</td>\n",
       "    </tr>\n",
       "  </tbody>\n",
       "</table>\n",
       "</div>"
      ],
      "text/plain": [
       "            count       mean        std  min    25%    50%   75%      max\n",
       "quantity  69659.0   2.410040   2.333924  1.0   1.00   2.00   3.0    99.00\n",
       "price     69659.0  35.893648  36.281942  0.0  14.49  25.98  43.7  1286.01"
      ]
     },
     "execution_count": 111,
     "metadata": {},
     "output_type": "execute_result"
    }
   ],
   "source": [
    "# 2.1 \n",
    "qp = ['quantity','price'] # identifying the numerical columns\n",
    "data[qp].describe().T"
   ]
  },
  {
   "cell_type": "code",
   "execution_count": 114,
   "metadata": {},
   "outputs": [
    {
     "data": {
      "image/png": "[encoded data removed]",
      "text/plain": [
       "<Figure size 1200x400 with 2 Axes>"
      ]
     },
     "metadata": {},
     "output_type": "display_data"
    }
   ],
   "source": [
    "#2.2\n",
    "data[qp].hist(bins=100, figsize=(12, 4), layout=(1, 2));"
   ]
  },
  {
   "cell_type": "code",
   "execution_count": 128,
   "metadata": {},
   "outputs": [
    {
     "name": "stdout",
     "output_type": "stream",
     "text": [
      "Skewness: Quantity 5.86, Price 5.66\n"
     ]
    }
   ],
   "source": [
    "print(f\"Skewness: Quantity {data['quantity'].skew():.2f}, Price {data['price'].skew():.2f}\")"
   ]
  },
  {
   "cell_type": "markdown",
   "metadata": {},
   "source": [
    "Both numerical features are quite skewed with several outliers. Lets see if a log transform can adress the skewness."
   ]
  },
  {
   "cell_type": "code",
   "execution_count": 116,
   "metadata": {},
   "outputs": [
    {
     "data": {
      "text/plain": [
       "<Axes: ylabel='Count'>"
      ]
     },
     "execution_count": 116,
     "metadata": {},
     "output_type": "execute_result"
    },
    {
     "data": {
      "image/png": "[encoded data removed]",
      "text/plain": [
       "<Figure size 640x480 with 1 Axes>"
      ]
     },
     "metadata": {},
     "output_type": "display_data"
    }
   ],
   "source": [
    "log_data = data[qp].map(lambda i: np.log(i) if i > 0 else 0)\n",
    "sns.histplot(log_data )"
   ]
  },
  {
   "cell_type": "code",
   "execution_count": 117,
   "metadata": {},
   "outputs": [
    {
     "data": {
      "text/html": [
       "<div>\n",
       "<style scoped>\n",
       "    .dataframe tbody tr th:only-of-type {\n",
       "        vertical-align: middle;\n",
       "    }\n",
       "\n",
       "    .dataframe tbody tr th {\n",
       "        vertical-align: top;\n",
       "    }\n",
       "\n",
       "    .dataframe thead th {\n",
       "        text-align: right;\n",
       "    }\n",
       "</style>\n",
       "<table border=\"1\" class=\"dataframe\">\n",
       "  <thead>\n",
       "    <tr style=\"text-align: right;\">\n",
       "      <th></th>\n",
       "      <th>count</th>\n",
       "      <th>mean</th>\n",
       "      <th>std</th>\n",
       "      <th>min</th>\n",
       "      <th>25%</th>\n",
       "      <th>50%</th>\n",
       "      <th>75%</th>\n",
       "      <th>max</th>\n",
       "      <th>IQR</th>\n",
       "      <th>1.5_IQR</th>\n",
       "      <th>u_outlier_bound</th>\n",
       "    </tr>\n",
       "  </thead>\n",
       "  <tbody>\n",
       "    <tr>\n",
       "      <th>quantity</th>\n",
       "      <td>69659.0</td>\n",
       "      <td>2.410040</td>\n",
       "      <td>2.333924</td>\n",
       "      <td>1.0</td>\n",
       "      <td>1.00</td>\n",
       "      <td>2.00</td>\n",
       "      <td>3.0</td>\n",
       "      <td>99.00</td>\n",
       "      <td>2.00</td>\n",
       "      <td>3.000</td>\n",
       "      <td>6.000</td>\n",
       "    </tr>\n",
       "    <tr>\n",
       "      <th>price</th>\n",
       "      <td>69659.0</td>\n",
       "      <td>35.893648</td>\n",
       "      <td>36.281942</td>\n",
       "      <td>0.0</td>\n",
       "      <td>14.49</td>\n",
       "      <td>25.98</td>\n",
       "      <td>43.7</td>\n",
       "      <td>1286.01</td>\n",
       "      <td>29.21</td>\n",
       "      <td>43.815</td>\n",
       "      <td>87.515</td>\n",
       "    </tr>\n",
       "  </tbody>\n",
       "</table>\n",
       "</div>"
      ],
      "text/plain": [
       "            count       mean        std  min    25%    50%   75%      max  \\\n",
       "quantity  69659.0   2.410040   2.333924  1.0   1.00   2.00   3.0    99.00   \n",
       "price     69659.0  35.893648  36.281942  0.0  14.49  25.98  43.7  1286.01   \n",
       "\n",
       "            IQR  1.5_IQR  u_outlier_bound  \n",
       "quantity   2.00    3.000            6.000  \n",
       "price     29.21   43.815           87.515  "
      ]
     },
     "execution_count": 117,
     "metadata": {},
     "output_type": "execute_result"
    }
   ],
   "source": [
    "# Outliers\n",
    "des_data = data[qp].describe().T\n",
    "# compute IQR and 1.5 * IQR\n",
    "des_data['IQR'] = des_data['75%'] - des_data['25%']\n",
    "des_data['1.5_IQR']= 1.5*des_data['IQR']\n",
    "    \n",
    "# establish outlier bounds\n",
    "des_data['u_outlier_bound'] = des_data['75%'] + des_data['1.5_IQR']\n",
    "des_data"
   ]
  },
  {
   "cell_type": "code",
   "execution_count": 129,
   "metadata": {},
   "outputs": [
    {
     "name": "stdout",
     "output_type": "stream",
     "text": [
      "Number of quantity outliers =  3257 (4.68%)\n",
      "Number of price outliers - 4439 (6.37%)\n"
     ]
    }
   ],
   "source": [
    "# Use outlier bounds to determine how many outliers are there for quantity and price\n",
    "quantity_outliers_count=data[data['quantity']>des_data['u_outlier_bound'].quantity].count()['quantity']\n",
    "price_outliers_count=data[data['price']>des_data['u_outlier_bound'].price].count()['price']\n",
    "print(f\"Number of quantity outliers =  {quantity_outliers_count} ({100*quantity_outliers_count/data.shape[0]:.2f}%)\")\n",
    "print(f\"Number of price outliers - {price_outliers_count} ({100*price_outliers_count/data.shape[0]:.2f}%)\")"
   ]
  },
  {
   "cell_type": "code",
   "execution_count": 139,
   "metadata": {},
   "outputs": [
    {
     "data": {
      "text/html": [
       "<div>\n",
       "<style scoped>\n",
       "    .dataframe tbody tr th:only-of-type {\n",
       "        vertical-align: middle;\n",
       "    }\n",
       "\n",
       "    .dataframe tbody tr th {\n",
       "        vertical-align: top;\n",
       "    }\n",
       "\n",
       "    .dataframe thead th {\n",
       "        text-align: right;\n",
       "    }\n",
       "</style>\n",
       "<table border=\"1\" class=\"dataframe\">\n",
       "  <thead>\n",
       "    <tr style=\"text-align: right;\">\n",
       "      <th></th>\n",
       "      <th>count</th>\n",
       "      <th>mean</th>\n",
       "      <th>std</th>\n",
       "      <th>min</th>\n",
       "      <th>25%</th>\n",
       "      <th>50%</th>\n",
       "      <th>75%</th>\n",
       "      <th>max</th>\n",
       "    </tr>\n",
       "  </thead>\n",
       "  <tbody>\n",
       "    <tr>\n",
       "      <th>quantity</th>\n",
       "      <td>64910.0</td>\n",
       "      <td>1.987768</td>\n",
       "      <td>1.234984</td>\n",
       "      <td>1.0</td>\n",
       "      <td>1.00</td>\n",
       "      <td>2.00</td>\n",
       "      <td>3.00</td>\n",
       "      <td>6.00</td>\n",
       "    </tr>\n",
       "    <tr>\n",
       "      <th>price</th>\n",
       "      <td>64910.0</td>\n",
       "      <td>28.843702</td>\n",
       "      <td>18.238490</td>\n",
       "      <td>0.0</td>\n",
       "      <td>14.37</td>\n",
       "      <td>24.48</td>\n",
       "      <td>39.33</td>\n",
       "      <td>87.51</td>\n",
       "    </tr>\n",
       "  </tbody>\n",
       "</table>\n",
       "</div>"
      ],
      "text/plain": [
       "            count       mean        std  min    25%    50%    75%    max\n",
       "quantity  64910.0   1.987768   1.234984  1.0   1.00   2.00   3.00   6.00\n",
       "price     64910.0  28.843702  18.238490  0.0  14.37  24.48  39.33  87.51"
      ]
     },
     "execution_count": 139,
     "metadata": {},
     "output_type": "execute_result"
    }
   ],
   "source": [
    "# Drop outliers from dataframe and compare with original dataframe\n",
    "df_no_outliers = data.drop(data[ \\\n",
    "    (data['quantity']>des_data['u_outlier_bound'].quantity) | \\\n",
    "    (data['price']>des_data['u_outlier_bound'].price) \\\n",
    "    ].index)\n",
    "df_no_outliers[qp].describe().T\n"
   ]
  },
  {
   "cell_type": "code",
   "execution_count": 140,
   "metadata": {},
   "outputs": [
    {
     "data": {
      "image/png": "[encoded data removed]",
      "text/plain": [
       "<Figure size 1200x400 with 2 Axes>"
      ]
     },
     "metadata": {},
     "output_type": "display_data"
    }
   ],
   "source": [
    "df_no_outliers[qp].hist(bins=100, figsize=(12, 4), layout=(1, 2));"
   ]
  },
  {
   "cell_type": "markdown",
   "metadata": {},
   "source": [
    "2.3 Results: Removing the outliers didn't significantly change the distrubtion shape of the quantity and price. Since the outliers are not a significant amount (leass than 7% of the dataset) and are plausible dataset values, I am choosing not to remove them. I may reconsider as they could seriously impact future sampling and regression techniques."
   ]
  },
  {
   "cell_type": "code",
   "execution_count": 142,
   "metadata": {},
   "outputs": [
    {
     "data": {
      "text/html": [
       "<div>\n",
       "<style scoped>\n",
       "    .dataframe tbody tr th:only-of-type {\n",
       "        vertical-align: middle;\n",
       "    }\n",
       "\n",
       "    .dataframe tbody tr th {\n",
       "        vertical-align: top;\n",
       "    }\n",
       "\n",
       "    .dataframe thead th {\n",
       "        text-align: right;\n",
       "    }\n",
       "</style>\n",
       "<table border=\"1\" class=\"dataframe\">\n",
       "  <thead>\n",
       "    <tr style=\"text-align: right;\">\n",
       "      <th></th>\n",
       "      <th>quantity</th>\n",
       "      <th>price</th>\n",
       "    </tr>\n",
       "  </thead>\n",
       "  <tbody>\n",
       "    <tr>\n",
       "      <th>quantity</th>\n",
       "      <td>1.00000</td>\n",
       "      <td>0.90141</td>\n",
       "    </tr>\n",
       "    <tr>\n",
       "      <th>price</th>\n",
       "      <td>0.90141</td>\n",
       "      <td>1.00000</td>\n",
       "    </tr>\n",
       "  </tbody>\n",
       "</table>\n",
       "</div>"
      ],
      "text/plain": [
       "          quantity    price\n",
       "quantity   1.00000  0.90141\n",
       "price      0.90141  1.00000"
      ]
     },
     "execution_count": 142,
     "metadata": {},
     "output_type": "execute_result"
    }
   ],
   "source": [
    "# 2.4 Correlation\n",
    "corr_map = data[qp].corr()\n",
    "corr_map\n"
   ]
  },
  {
   "cell_type": "markdown",
   "metadata": {},
   "source": [
    "2.4 Results: Quantity and Price are highly correlated, which is expected"
   ]
  }
 ],
 "metadata": {
  "kernelspec": {
   "display_name": "marketing",
   "language": "python",
   "name": "python3"
  },
  "language_info": {
   "codemirror_mode": {
    "name": "ipython",
    "version": 3
   },
   "file_extension": ".py",
   "mimetype": "text/x-python",
   "name": "python",
   "nbconvert_exporter": "python",
   "pygments_lexer": "ipython3",
   "version": "3.12.0"
  }
 },
 "nbformat": 4,
 "nbformat_minor": 2
}
