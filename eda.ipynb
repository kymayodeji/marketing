{
 "cells": [
  {
   "cell_type": "markdown",
   "metadata": {},
   "source": [
    "## Marketing Exploratory Data Analysis\n",
    "### Notebook by Kymberly Ayodeji\n",
    "\n",
    "### Step 0: Install Libraries and Packages"
   ]
  },
  {
   "cell_type": "code",
   "execution_count": 1,
   "metadata": {},
   "outputs": [],
   "source": [
    "# Basic Numerical Libraries\n",
    "import pandas as pd\n",
    "import numpy as np\n",
    "\n",
    "# Graphing Libraries\n",
    "import matplotlib.pyplot as plt\n",
    "import seaborn as sns\n",
    "%matplotlib inline\n"
   ]
  },
  {
   "cell_type": "markdown",
   "metadata": {},
   "source": [
    "### Step 1: Load Data"
   ]
  },
  {
   "cell_type": "code",
   "execution_count": 2,
   "metadata": {},
   "outputs": [
    {
     "name": "stdout",
     "output_type": "stream",
     "text": [
      "<class 'pandas.core.frame.DataFrame'>\n",
      "RangeIndex: 69659 entries, 0 to 69658\n",
      "Data columns (total 4 columns):\n",
      " #   Column       Non-Null Count  Dtype  \n",
      "---  ------       --------------  -----  \n",
      " 0   customer_id  69659 non-null  int64  \n",
      " 1   date         69659 non-null  int64  \n",
      " 2   quantity     69659 non-null  int64  \n",
      " 3   price        69659 non-null  float64\n",
      "dtypes: float64(1), int64(3)\n",
      "memory usage: 2.1 MB\n"
     ]
    },
    {
     "name": "stderr",
     "output_type": "stream",
     "text": [
      "<>:1: SyntaxWarning: invalid escape sequence '\\s'\n",
      "<>:1: SyntaxWarning: invalid escape sequence '\\s'\n",
      "C:\\Users\\kymno\\AppData\\Local\\Temp\\ipykernel_29784\\1906795430.py:1: SyntaxWarning: invalid escape sequence '\\s'\n",
      "  data = pd.read_csv(\"data/CDNOW_master.txt\", sep=\"\\s+\", names=[\"customer_id\", \"date\", \"quantity\", \"price\"])\n"
     ]
    }
   ],
   "source": [
    "data = pd.read_csv(\"data/CDNOW_master.txt\", sep=\"\\s+\", names=[\"customer_id\", \"date\", \"quantity\", \"price\"])\n",
    "data.info()"
   ]
  },
  {
   "cell_type": "code",
   "execution_count": 4,
   "metadata": {},
   "outputs": [
    {
     "name": "stdout",
     "output_type": "stream",
     "text": [
      "Number of transactions:\t 69659\n",
      "Number of customers:\t 23570\n",
      "Date range:\t\t 19970101 to 19980630\n",
      "Price range:\t\t$ 0.0 to $ 1286.01\n"
     ]
    }
   ],
   "source": [
    "print('Number of transactions:\\t', data.shape[0])\n",
    "print('Number of customers:\\t', data['customer_id'].nunique())\n",
    "print('Date range:\\t\\t', data['date'].min(), 'to', data['date'].max())\n",
    "print('Price range:\\t\\t$', data['price'].min(), 'to $', data['price'].max())\n"
   ]
  },
  {
   "cell_type": "markdown",
   "metadata": {},
   "source": [
    "#### 1.0: Notes:\n",
    "* 69,659 rows and 4 columns\n",
    "* No null entries\n",
    "* date column is of type int65 and will need to be converted to datetime"
   ]
  },
  {
   "cell_type": "code",
   "execution_count": 5,
   "metadata": {},
   "outputs": [
    {
     "name": "stdout",
     "output_type": "stream",
     "text": [
      "<class 'pandas.core.frame.DataFrame'>\n",
      "RangeIndex: 69659 entries, 0 to 69658\n",
      "Data columns (total 4 columns):\n",
      " #   Column       Non-Null Count  Dtype         \n",
      "---  ------       --------------  -----         \n",
      " 0   customer_id  69659 non-null  int64         \n",
      " 1   date         69659 non-null  datetime64[ns]\n",
      " 2   quantity     69659 non-null  int64         \n",
      " 3   price        69659 non-null  float64       \n",
      "dtypes: datetime64[ns](1), float64(1), int64(2)\n",
      "memory usage: 2.1 MB\n"
     ]
    }
   ],
   "source": [
    "# Convert date column to string and then to datetime object\n",
    "data = data \\\n",
    "    .assign(date = lambda x: x['date'].astype(str)) \\\n",
    "    .assign(date = lambda x: pd.to_datetime(x['date'])) \n",
    "data.info()"
   ]
  },
  {
   "cell_type": "markdown",
   "metadata": {},
   "source": [
    "### 2.0 Initial Exploratory Analysis\n",
    "- 2.1 Numerical descriptions\n",
    "- 2.2 Graphical distributions\n",
    "- 2.3 Handling of any outliers\n",
    "- 2.4 Correlation Analysis"
   ]
  },
  {
   "cell_type": "code",
   "execution_count": 6,
   "metadata": {},
   "outputs": [
    {
     "data": {
      "text/html": [
       "<div>\n",
       "<style scoped>\n",
       "    .dataframe tbody tr th:only-of-type {\n",
       "        vertical-align: middle;\n",
       "    }\n",
       "\n",
       "    .dataframe tbody tr th {\n",
       "        vertical-align: top;\n",
       "    }\n",
       "\n",
       "    .dataframe thead th {\n",
       "        text-align: right;\n",
       "    }\n",
       "</style>\n",
       "<table border=\"1\" class=\"dataframe\">\n",
       "  <thead>\n",
       "    <tr style=\"text-align: right;\">\n",
       "      <th></th>\n",
       "      <th>count</th>\n",
       "      <th>mean</th>\n",
       "      <th>std</th>\n",
       "      <th>min</th>\n",
       "      <th>25%</th>\n",
       "      <th>50%</th>\n",
       "      <th>75%</th>\n",
       "      <th>max</th>\n",
       "    </tr>\n",
       "  </thead>\n",
       "  <tbody>\n",
       "    <tr>\n",
       "      <th>quantity</th>\n",
       "      <td>69659.0</td>\n",
       "      <td>2.410040</td>\n",
       "      <td>2.333924</td>\n",
       "      <td>1.0</td>\n",
       "      <td>1.00</td>\n",
       "      <td>2.00</td>\n",
       "      <td>3.0</td>\n",
       "      <td>99.00</td>\n",
       "    </tr>\n",
       "    <tr>\n",
       "      <th>price</th>\n",
       "      <td>69659.0</td>\n",
       "      <td>35.893648</td>\n",
       "      <td>36.281942</td>\n",
       "      <td>0.0</td>\n",
       "      <td>14.49</td>\n",
       "      <td>25.98</td>\n",
       "      <td>43.7</td>\n",
       "      <td>1286.01</td>\n",
       "    </tr>\n",
       "  </tbody>\n",
       "</table>\n",
       "</div>"
      ],
      "text/plain": [
       "            count       mean        std  min    25%    50%   75%      max\n",
       "quantity  69659.0   2.410040   2.333924  1.0   1.00   2.00   3.0    99.00\n",
       "price     69659.0  35.893648  36.281942  0.0  14.49  25.98  43.7  1286.01"
      ]
     },
     "execution_count": 6,
     "metadata": {},
     "output_type": "execute_result"
    }
   ],
   "source": [
    "# 2.1 \n",
    "qp = ['quantity','price'] # identifying the numerical columns\n",
    "data[qp].describe().T"
   ]
  },
  {
   "cell_type": "code",
   "execution_count": 7,
   "metadata": {},
   "outputs": [
    {
     "data": {
      "image/png": "[encoded data removed]",
      "text/plain": [
       "<Figure size 1200x400 with 2 Axes>"
      ]
     },
     "metadata": {},
     "output_type": "display_data"
    }
   ],
   "source": [
    "#2.2\n",
    "data[qp].hist(bins=100, figsize=(12, 4), layout=(1, 2));"
   ]
  },
  {
   "cell_type": "code",
   "execution_count": 8,
   "metadata": {},
   "outputs": [
    {
     "name": "stdout",
     "output_type": "stream",
     "text": [
      "Skewness: Quantity 5.86, Price 5.66\n"
     ]
    }
   ],
   "source": [
    "print(f\"Skewness: Quantity {data['quantity'].skew():.2f}, Price {data['price'].skew():.2f}\")"
   ]
  },
  {
   "cell_type": "markdown",
   "metadata": {},
   "source": [
    "Both numerical features are quite skewed with several outliers. Lets see if a log transform can adress the skewness."
   ]
  },
  {
   "cell_type": "code",
   "execution_count": 9,
   "metadata": {},
   "outputs": [
    {
     "data": {
      "text/plain": [
       "<Axes: ylabel='Count'>"
      ]
     },
     "execution_count": 9,
     "metadata": {},
     "output_type": "execute_result"
    },
    {
     "data": {
      "image/png": "[encoded data removed]",
      "text/plain": [
       "<Figure size 640x480 with 1 Axes>"
      ]
     },
     "metadata": {},
     "output_type": "display_data"
    }
   ],
   "source": [
    "log_data = data[qp].map(lambda i: np.log(i) if i > 0 else 0)\n",
    "sns.histplot(log_data )"
   ]
  },
  {
   "cell_type": "code",
   "execution_count": 10,
   "metadata": {},
   "outputs": [
    {
     "data": {
      "text/html": [
       "<div>\n",
       "<style scoped>\n",
       "    .dataframe tbody tr th:only-of-type {\n",
       "        vertical-align: middle;\n",
       "    }\n",
       "\n",
       "    .dataframe tbody tr th {\n",
       "        vertical-align: top;\n",
       "    }\n",
       "\n",
       "    .dataframe thead th {\n",
       "        text-align: right;\n",
       "    }\n",
       "</style>\n",
       "<table border=\"1\" class=\"dataframe\">\n",
       "  <thead>\n",
       "    <tr style=\"text-align: right;\">\n",
       "      <th></th>\n",
       "      <th>count</th>\n",
       "      <th>mean</th>\n",
       "      <th>std</th>\n",
       "      <th>min</th>\n",
       "      <th>25%</th>\n",
       "      <th>50%</th>\n",
       "      <th>75%</th>\n",
       "      <th>max</th>\n",
       "      <th>IQR</th>\n",
       "      <th>1.5_IQR</th>\n",
       "      <th>u_outlier_bound</th>\n",
       "    </tr>\n",
       "  </thead>\n",
       "  <tbody>\n",
       "    <tr>\n",
       "      <th>quantity</th>\n",
       "      <td>69659.0</td>\n",
       "      <td>2.410040</td>\n",
       "      <td>2.333924</td>\n",
       "      <td>1.0</td>\n",
       "      <td>1.00</td>\n",
       "      <td>2.00</td>\n",
       "      <td>3.0</td>\n",
       "      <td>99.00</td>\n",
       "      <td>2.00</td>\n",
       "      <td>3.000</td>\n",
       "      <td>6.000</td>\n",
       "    </tr>\n",
       "    <tr>\n",
       "      <th>price</th>\n",
       "      <td>69659.0</td>\n",
       "      <td>35.893648</td>\n",
       "      <td>36.281942</td>\n",
       "      <td>0.0</td>\n",
       "      <td>14.49</td>\n",
       "      <td>25.98</td>\n",
       "      <td>43.7</td>\n",
       "      <td>1286.01</td>\n",
       "      <td>29.21</td>\n",
       "      <td>43.815</td>\n",
       "      <td>87.515</td>\n",
       "    </tr>\n",
       "  </tbody>\n",
       "</table>\n",
       "</div>"
      ],
      "text/plain": [
       "            count       mean        std  min    25%    50%   75%      max  \\\n",
       "quantity  69659.0   2.410040   2.333924  1.0   1.00   2.00   3.0    99.00   \n",
       "price     69659.0  35.893648  36.281942  0.0  14.49  25.98  43.7  1286.01   \n",
       "\n",
       "            IQR  1.5_IQR  u_outlier_bound  \n",
       "quantity   2.00    3.000            6.000  \n",
       "price     29.21   43.815           87.515  "
      ]
     },
     "execution_count": 10,
     "metadata": {},
     "output_type": "execute_result"
    }
   ],
   "source": [
    "# Outliers\n",
    "des_data = data[qp].describe().T\n",
    "# compute IQR and 1.5 * IQR\n",
    "des_data['IQR'] = des_data['75%'] - des_data['25%']\n",
    "des_data['1.5_IQR']= 1.5*des_data['IQR']\n",
    "    \n",
    "# establish outlier bounds\n",
    "des_data['u_outlier_bound'] = des_data['75%'] + des_data['1.5_IQR']\n",
    "des_data"
   ]
  },
  {
   "cell_type": "code",
   "execution_count": 11,
   "metadata": {},
   "outputs": [
    {
     "name": "stdout",
     "output_type": "stream",
     "text": [
      "Number of quantity outliers =  3257 (4.68%)\n",
      "Number of price outliers - 4439 (6.37%)\n"
     ]
    }
   ],
   "source": [
    "# Use outlier bounds to determine how many outliers are there for quantity and price\n",
    "quantity_outliers_count=data[data['quantity']>des_data['u_outlier_bound'].quantity].count()['quantity']\n",
    "price_outliers_count=data[data['price']>des_data['u_outlier_bound'].price].count()['price']\n",
    "print(f\"Number of quantity outliers =  {quantity_outliers_count} ({100*quantity_outliers_count/data.shape[0]:.2f}%)\")\n",
    "print(f\"Number of price outliers - {price_outliers_count} ({100*price_outliers_count/data.shape[0]:.2f}%)\")"
   ]
  },
  {
   "cell_type": "code",
   "execution_count": 12,
   "metadata": {},
   "outputs": [
    {
     "data": {
      "text/html": [
       "<div>\n",
       "<style scoped>\n",
       "    .dataframe tbody tr th:only-of-type {\n",
       "        vertical-align: middle;\n",
       "    }\n",
       "\n",
       "    .dataframe tbody tr th {\n",
       "        vertical-align: top;\n",
       "    }\n",
       "\n",
       "    .dataframe thead th {\n",
       "        text-align: right;\n",
       "    }\n",
       "</style>\n",
       "<table border=\"1\" class=\"dataframe\">\n",
       "  <thead>\n",
       "    <tr style=\"text-align: right;\">\n",
       "      <th></th>\n",
       "      <th>count</th>\n",
       "      <th>mean</th>\n",
       "      <th>std</th>\n",
       "      <th>min</th>\n",
       "      <th>25%</th>\n",
       "      <th>50%</th>\n",
       "      <th>75%</th>\n",
       "      <th>max</th>\n",
       "    </tr>\n",
       "  </thead>\n",
       "  <tbody>\n",
       "    <tr>\n",
       "      <th>quantity</th>\n",
       "      <td>64910.0</td>\n",
       "      <td>1.987768</td>\n",
       "      <td>1.234984</td>\n",
       "      <td>1.0</td>\n",
       "      <td>1.00</td>\n",
       "      <td>2.00</td>\n",
       "      <td>3.00</td>\n",
       "      <td>6.00</td>\n",
       "    </tr>\n",
       "    <tr>\n",
       "      <th>price</th>\n",
       "      <td>64910.0</td>\n",
       "      <td>28.843702</td>\n",
       "      <td>18.238490</td>\n",
       "      <td>0.0</td>\n",
       "      <td>14.37</td>\n",
       "      <td>24.48</td>\n",
       "      <td>39.33</td>\n",
       "      <td>87.51</td>\n",
       "    </tr>\n",
       "  </tbody>\n",
       "</table>\n",
       "</div>"
      ],
      "text/plain": [
       "            count       mean        std  min    25%    50%    75%    max\n",
       "quantity  64910.0   1.987768   1.234984  1.0   1.00   2.00   3.00   6.00\n",
       "price     64910.0  28.843702  18.238490  0.0  14.37  24.48  39.33  87.51"
      ]
     },
     "execution_count": 12,
     "metadata": {},
     "output_type": "execute_result"
    }
   ],
   "source": [
    "# Drop outliers from dataframe and compare with original dataframe\n",
    "df_no_outliers = data.drop(data[ \\\n",
    "    (data['quantity']>des_data['u_outlier_bound'].quantity) | \\\n",
    "    (data['price']>des_data['u_outlier_bound'].price) \\\n",
    "    ].index)\n",
    "df_no_outliers[qp].describe().T\n"
   ]
  },
  {
   "cell_type": "code",
   "execution_count": 13,
   "metadata": {},
   "outputs": [
    {
     "data": {
      "image/png": "[encoded data removed]",
      "text/plain": [
       "<Figure size 1200x400 with 2 Axes>"
      ]
     },
     "metadata": {},
     "output_type": "display_data"
    }
   ],
   "source": [
    "df_no_outliers[qp].hist(bins=100, figsize=(12, 4), layout=(1, 2));"
   ]
  },
  {
   "cell_type": "markdown",
   "metadata": {},
   "source": [
    "2.3 Results: Removing the outliers didn't significantly change the distrubtion shape of the quantity and price. Since the outliers are not a significant amount (leass than 7% of the dataset) and are plausible dataset values, I am choosing not to remove them. I may reconsider as they could seriously impact future sampling and regression techniques."
   ]
  },
  {
   "cell_type": "code",
   "execution_count": 14,
   "metadata": {},
   "outputs": [
    {
     "data": {
      "text/html": [
       "<div>\n",
       "<style scoped>\n",
       "    .dataframe tbody tr th:only-of-type {\n",
       "        vertical-align: middle;\n",
       "    }\n",
       "\n",
       "    .dataframe tbody tr th {\n",
       "        vertical-align: top;\n",
       "    }\n",
       "\n",
       "    .dataframe thead th {\n",
       "        text-align: right;\n",
       "    }\n",
       "</style>\n",
       "<table border=\"1\" class=\"dataframe\">\n",
       "  <thead>\n",
       "    <tr style=\"text-align: right;\">\n",
       "      <th></th>\n",
       "      <th>quantity</th>\n",
       "      <th>price</th>\n",
       "    </tr>\n",
       "  </thead>\n",
       "  <tbody>\n",
       "    <tr>\n",
       "      <th>quantity</th>\n",
       "      <td>1.00000</td>\n",
       "      <td>0.90141</td>\n",
       "    </tr>\n",
       "    <tr>\n",
       "      <th>price</th>\n",
       "      <td>0.90141</td>\n",
       "      <td>1.00000</td>\n",
       "    </tr>\n",
       "  </tbody>\n",
       "</table>\n",
       "</div>"
      ],
      "text/plain": [
       "          quantity    price\n",
       "quantity   1.00000  0.90141\n",
       "price      0.90141  1.00000"
      ]
     },
     "execution_count": 14,
     "metadata": {},
     "output_type": "execute_result"
    }
   ],
   "source": [
    "# 2.4 Correlation\n",
    "corr_map = data[qp].corr()\n",
    "corr_map\n"
   ]
  },
  {
   "cell_type": "markdown",
   "metadata": {},
   "source": []
  },
  {
   "cell_type": "code",
   "execution_count": 15,
   "metadata": {},
   "outputs": [
    {
     "data": {
      "text/html": [
       "<div>\n",
       "<style scoped>\n",
       "    .dataframe tbody tr th:only-of-type {\n",
       "        vertical-align: middle;\n",
       "    }\n",
       "\n",
       "    .dataframe tbody tr th {\n",
       "        vertical-align: top;\n",
       "    }\n",
       "\n",
       "    .dataframe thead th {\n",
       "        text-align: right;\n",
       "    }\n",
       "</style>\n",
       "<table border=\"1\" class=\"dataframe\">\n",
       "  <thead>\n",
       "    <tr style=\"text-align: right;\">\n",
       "      <th></th>\n",
       "      <th>quantity</th>\n",
       "      <th>price</th>\n",
       "    </tr>\n",
       "    <tr>\n",
       "      <th>customer_id</th>\n",
       "      <th></th>\n",
       "      <th></th>\n",
       "    </tr>\n",
       "  </thead>\n",
       "  <tbody>\n",
       "    <tr>\n",
       "      <th>1</th>\n",
       "      <td>1</td>\n",
       "      <td>11.77</td>\n",
       "    </tr>\n",
       "    <tr>\n",
       "      <th>2</th>\n",
       "      <td>6</td>\n",
       "      <td>89.00</td>\n",
       "    </tr>\n",
       "    <tr>\n",
       "      <th>3</th>\n",
       "      <td>16</td>\n",
       "      <td>156.46</td>\n",
       "    </tr>\n",
       "    <tr>\n",
       "      <th>4</th>\n",
       "      <td>7</td>\n",
       "      <td>100.50</td>\n",
       "    </tr>\n",
       "    <tr>\n",
       "      <th>5</th>\n",
       "      <td>29</td>\n",
       "      <td>385.61</td>\n",
       "    </tr>\n",
       "    <tr>\n",
       "      <th>...</th>\n",
       "      <td>...</td>\n",
       "      <td>...</td>\n",
       "    </tr>\n",
       "    <tr>\n",
       "      <th>23566</th>\n",
       "      <td>2</td>\n",
       "      <td>36.00</td>\n",
       "    </tr>\n",
       "    <tr>\n",
       "      <th>23567</th>\n",
       "      <td>1</td>\n",
       "      <td>20.97</td>\n",
       "    </tr>\n",
       "    <tr>\n",
       "      <th>23568</th>\n",
       "      <td>6</td>\n",
       "      <td>121.70</td>\n",
       "    </tr>\n",
       "    <tr>\n",
       "      <th>23569</th>\n",
       "      <td>2</td>\n",
       "      <td>25.74</td>\n",
       "    </tr>\n",
       "    <tr>\n",
       "      <th>23570</th>\n",
       "      <td>5</td>\n",
       "      <td>94.08</td>\n",
       "    </tr>\n",
       "  </tbody>\n",
       "</table>\n",
       "<p>23570 rows × 2 columns</p>\n",
       "</div>"
      ],
      "text/plain": [
       "             quantity   price\n",
       "customer_id                  \n",
       "1                   1   11.77\n",
       "2                   6   89.00\n",
       "3                  16  156.46\n",
       "4                   7  100.50\n",
       "5                  29  385.61\n",
       "...               ...     ...\n",
       "23566               2   36.00\n",
       "23567               1   20.97\n",
       "23568               6  121.70\n",
       "23569               2   25.74\n",
       "23570               5   94.08\n",
       "\n",
       "[23570 rows x 2 columns]"
      ]
     },
     "execution_count": 15,
     "metadata": {},
     "output_type": "execute_result"
    }
   ],
   "source": [
    "# Determine \n",
    "customers_frequency = data[['customer_id', 'quantity','price']].groupby(['customer_id']).sum()\n",
    "customers_frequency"
   ]
  },
  {
   "cell_type": "code",
   "execution_count": 16,
   "metadata": {},
   "outputs": [
    {
     "data": {
      "text/plain": [
       "<Axes: xlabel='quantity', ylabel='price'>"
      ]
     },
     "execution_count": 16,
     "metadata": {},
     "output_type": "execute_result"
    },
    {
     "data": {
      "image/png": "[encoded data removed]",
      "text/plain": [
       "<Figure size 640x480 with 1 Axes>"
      ]
     },
     "metadata": {},
     "output_type": "display_data"
    }
   ],
   "source": [
    "sns.scatterplot(data=customers_frequency,x='quantity',y='price')"
   ]
  },
  {
   "cell_type": "code",
   "execution_count": 17,
   "metadata": {},
   "outputs": [
    {
     "data": {
      "text/plain": [
       "<Axes: xlabel='quantity', ylabel='price'>"
      ]
     },
     "execution_count": 17,
     "metadata": {},
     "output_type": "execute_result"
    },
    {
     "data": {
      "image/png": "[encoded data removed]",
      "text/plain": [
       "<Figure size 640x480 with 1 Axes>"
      ]
     },
     "metadata": {},
     "output_type": "display_data"
    }
   ],
   "source": [
    "sns.scatterplot(\n",
    "    data = customers_frequency[ (customers_frequency['quantity']<390 ) & (customers_frequency['price']<5000) ],\n",
    "    x = 'quantity',\n",
    "    y='price'\n",
    ")"
   ]
  },
  {
   "cell_type": "code",
   "execution_count": 18,
   "metadata": {},
   "outputs": [
    {
     "data": {
      "text/plain": [
       "<Axes: xlabel='date'>"
      ]
     },
     "execution_count": 18,
     "metadata": {},
     "output_type": "execute_result"
    },
    {
     "data": {
      "image/png": "[encoded data removed]",
      "text/plain": [
       "<Figure size 640x480 with 1 Axes>"
      ]
     },
     "metadata": {},
     "output_type": "display_data"
    }
   ],
   "source": [
    "# Daily Transactions\n",
    "daily_transactions = data.groupby('date').size()\n",
    "daily_transactions.plot()"
   ]
  },
  {
   "cell_type": "code",
   "execution_count": null,
   "metadata": {},
   "outputs": [],
   "source": []
  },
  {
   "cell_type": "markdown",
   "metadata": {},
   "source": [
    "2.4 Results: Quantity and Price are highly correlated, which is expected\n",
    "\n",
    "### 3.0 Prep Dataset for Machine Learning Algorithms\n",
    "\n",
    "* 3.1 - Separate dataset into Training and Testing sets based on date\n",
    "* 3.2 - For Training Set, Calculate Recency, Frequency and Monetary values and additional aggregations\n",
    "* 3.3 - for Testing Set, Calculate actual spend during the past n days"
   ]
  },
  {
   "cell_type": "code",
   "execution_count": 19,
   "metadata": {},
   "outputs": [
    {
     "name": "stdout",
     "output_type": "stream",
     "text": [
      "Dataset range is from 1997-01-01 to 1998-06-30. \n",
      "Partition date is on 1998-03-02 which is 120 days before the last date\n"
     ]
    }
   ],
   "source": [
    "# 3.1a Identify a partition date that is n days before the last dataset record. \n",
    "n = 120 # choosing 120 days\n",
    "data_begin_date, data_final_day = data['date'].min(), data['date'].max() \n",
    "partition_date = data_final_day - pd.to_timedelta(n, unit = \"d\")\n",
    "print(f\"Dataset range is from {data_begin_date.date()} to {data_final_day.date()}. \\nPartition date is on {partition_date.date()} which is {n} days before the last date\")"
   ]
  },
  {
   "cell_type": "code",
   "execution_count": 20,
   "metadata": {},
   "outputs": [
    {
     "name": "stdout",
     "output_type": "stream",
     "text": [
      "Training dataset has 61046 rows which is 87.64% of the dataset entries.\n",
      "Testing dataset has 8613 rows which is 12.36% of the dataset entries.\n"
     ]
    }
   ],
   "source": [
    "# 3.1 b Separate into Training and Testing set based on entries before the n days and within the last n days\n",
    "training_set = data[data['date']< partition_date]\n",
    "testing_set =  data[data['date']>= partition_date]\n",
    "print(f\"Training dataset has {training_set.shape[0]} rows which is {100*training_set.shape[0]/data.shape[0]:.2f}% of the dataset entries.\")\n",
    "print(f\"Testing dataset has {testing_set.shape[0]} rows which is {100*testing_set.shape[0]/data.shape[0]:.2f}% of the dataset entries.\")"
   ]
  },
  {
   "cell_type": "code",
   "execution_count": 21,
   "metadata": {},
   "outputs": [
    {
     "data": {
      "text/html": [
       "<div>\n",
       "<style scoped>\n",
       "    .dataframe tbody tr th:only-of-type {\n",
       "        vertical-align: middle;\n",
       "    }\n",
       "\n",
       "    .dataframe tbody tr th {\n",
       "        vertical-align: top;\n",
       "    }\n",
       "\n",
       "    .dataframe thead th {\n",
       "        text-align: right;\n",
       "    }\n",
       "</style>\n",
       "<table border=\"1\" class=\"dataframe\">\n",
       "  <thead>\n",
       "    <tr style=\"text-align: right;\">\n",
       "      <th></th>\n",
       "      <th>total_purchases</th>\n",
       "      <th>first_order_date</th>\n",
       "      <th>last_order_date</th>\n",
       "      <th>avg_price</th>\n",
       "      <th>max_price</th>\n",
       "      <th>total_price</th>\n",
       "    </tr>\n",
       "    <tr>\n",
       "      <th>customer_id</th>\n",
       "      <th></th>\n",
       "      <th></th>\n",
       "      <th></th>\n",
       "      <th></th>\n",
       "      <th></th>\n",
       "      <th></th>\n",
       "    </tr>\n",
       "  </thead>\n",
       "  <tbody>\n",
       "    <tr>\n",
       "      <th>1</th>\n",
       "      <td>1</td>\n",
       "      <td>1997-01-01</td>\n",
       "      <td>1997-01-01</td>\n",
       "      <td>11.770000</td>\n",
       "      <td>11.77</td>\n",
       "      <td>11.77</td>\n",
       "    </tr>\n",
       "    <tr>\n",
       "      <th>2</th>\n",
       "      <td>2</td>\n",
       "      <td>1997-01-12</td>\n",
       "      <td>1997-01-12</td>\n",
       "      <td>44.500000</td>\n",
       "      <td>77.00</td>\n",
       "      <td>89.00</td>\n",
       "    </tr>\n",
       "    <tr>\n",
       "      <th>3</th>\n",
       "      <td>5</td>\n",
       "      <td>1997-01-02</td>\n",
       "      <td>1997-11-25</td>\n",
       "      <td>27.894000</td>\n",
       "      <td>57.45</td>\n",
       "      <td>139.47</td>\n",
       "    </tr>\n",
       "    <tr>\n",
       "      <th>4</th>\n",
       "      <td>4</td>\n",
       "      <td>1997-01-01</td>\n",
       "      <td>1997-12-12</td>\n",
       "      <td>25.125000</td>\n",
       "      <td>29.73</td>\n",
       "      <td>100.50</td>\n",
       "    </tr>\n",
       "    <tr>\n",
       "      <th>5</th>\n",
       "      <td>11</td>\n",
       "      <td>1997-01-01</td>\n",
       "      <td>1998-01-03</td>\n",
       "      <td>35.055455</td>\n",
       "      <td>46.46</td>\n",
       "      <td>385.61</td>\n",
       "    </tr>\n",
       "    <tr>\n",
       "      <th>...</th>\n",
       "      <td>...</td>\n",
       "      <td>...</td>\n",
       "      <td>...</td>\n",
       "      <td>...</td>\n",
       "      <td>...</td>\n",
       "      <td>...</td>\n",
       "    </tr>\n",
       "    <tr>\n",
       "      <th>23566</th>\n",
       "      <td>1</td>\n",
       "      <td>1997-03-25</td>\n",
       "      <td>1997-03-25</td>\n",
       "      <td>36.000000</td>\n",
       "      <td>36.00</td>\n",
       "      <td>36.00</td>\n",
       "    </tr>\n",
       "    <tr>\n",
       "      <th>23567</th>\n",
       "      <td>1</td>\n",
       "      <td>1997-03-25</td>\n",
       "      <td>1997-03-25</td>\n",
       "      <td>20.970000</td>\n",
       "      <td>20.97</td>\n",
       "      <td>20.97</td>\n",
       "    </tr>\n",
       "    <tr>\n",
       "      <th>23568</th>\n",
       "      <td>3</td>\n",
       "      <td>1997-03-25</td>\n",
       "      <td>1997-04-22</td>\n",
       "      <td>40.566667</td>\n",
       "      <td>83.74</td>\n",
       "      <td>121.70</td>\n",
       "    </tr>\n",
       "    <tr>\n",
       "      <th>23569</th>\n",
       "      <td>1</td>\n",
       "      <td>1997-03-25</td>\n",
       "      <td>1997-03-25</td>\n",
       "      <td>25.740000</td>\n",
       "      <td>25.74</td>\n",
       "      <td>25.74</td>\n",
       "    </tr>\n",
       "    <tr>\n",
       "      <th>23570</th>\n",
       "      <td>2</td>\n",
       "      <td>1997-03-25</td>\n",
       "      <td>1997-03-26</td>\n",
       "      <td>47.040000</td>\n",
       "      <td>51.12</td>\n",
       "      <td>94.08</td>\n",
       "    </tr>\n",
       "  </tbody>\n",
       "</table>\n",
       "<p>23570 rows × 6 columns</p>\n",
       "</div>"
      ],
      "text/plain": [
       "             total_purchases first_order_date last_order_date  avg_price  \\\n",
       "customer_id                                                                \n",
       "1                          1       1997-01-01      1997-01-01  11.770000   \n",
       "2                          2       1997-01-12      1997-01-12  44.500000   \n",
       "3                          5       1997-01-02      1997-11-25  27.894000   \n",
       "4                          4       1997-01-01      1997-12-12  25.125000   \n",
       "5                         11       1997-01-01      1998-01-03  35.055455   \n",
       "...                      ...              ...             ...        ...   \n",
       "23566                      1       1997-03-25      1997-03-25  36.000000   \n",
       "23567                      1       1997-03-25      1997-03-25  20.970000   \n",
       "23568                      3       1997-03-25      1997-04-22  40.566667   \n",
       "23569                      1       1997-03-25      1997-03-25  25.740000   \n",
       "23570                      2       1997-03-25      1997-03-26  47.040000   \n",
       "\n",
       "             max_price  total_price  \n",
       "customer_id                          \n",
       "1                11.77        11.77  \n",
       "2                77.00        89.00  \n",
       "3                57.45       139.47  \n",
       "4                29.73       100.50  \n",
       "5                46.46       385.61  \n",
       "...                ...          ...  \n",
       "23566            36.00        36.00  \n",
       "23567            20.97        20.97  \n",
       "23568            83.74       121.70  \n",
       "23569            25.74        25.74  \n",
       "23570            51.12        94.08  \n",
       "\n",
       "[23570 rows x 6 columns]"
      ]
     },
     "execution_count": 21,
     "metadata": {},
     "output_type": "execute_result"
    }
   ],
   "source": [
    "# 3.2 Determine RFM Matrix for the training set\n",
    "# Retrieving the aggregations by customer id \n",
    "# Training\n",
    "rfm_training = training_set.groupby('customer_id') \\\n",
    "    .agg({ \\\n",
    "    \"date\": [np.count_nonzero, 'min', 'max'],\\\n",
    "    \"price\": ['mean', 'max', 'sum']\\\n",
    "    } \\\n",
    ") \n",
    "rfm_training.columns = ['total_purchases', 'first_order_date', 'last_order_date', 'avg_price', 'max_price','total_price']\n",
    "rfm_training"
   ]
  },
  {
   "cell_type": "code",
   "execution_count": 22,
   "metadata": {},
   "outputs": [],
   "source": [
    "# Determine the RFM Values for the training set time range\n",
    "# recency (how recent was the customer's last purchase?) \n",
    "# frequency (how often the customer purchased items)  \n",
    "# monetary (how much did the customer spend)\n",
    "max_training_date = training_set['date'].max()\n",
    "rfm_training['recency'] = (rfm_training['first_order_date'] - max_training_date).dt.days\n",
    "rfm_training['frequency'] = rfm_training['total_purchases'] \n",
    "rfm_training['monetary'] = rfm_training['total_price']\n",
    "\n",
    "# Duration represents the difference in days since the customers first and last purchase\n",
    "rfm_training['duration'] = ( rfm_training['last_order_date'] - rfm_training['first_order_date']).dt.days\n",
    "\n",
    "\n",
    "# Keep just the RFM , duration and price aggregations\n",
    "cols = ['recency','frequency','monetary','duration','avg_price', 'max_price']\n",
    "rfm_training = rfm_training[cols]\n"
   ]
  },
  {
   "cell_type": "code",
   "execution_count": 23,
   "metadata": {},
   "outputs": [
    {
     "data": {
      "text/html": [
       "<div>\n",
       "<style scoped>\n",
       "    .dataframe tbody tr th:only-of-type {\n",
       "        vertical-align: middle;\n",
       "    }\n",
       "\n",
       "    .dataframe tbody tr th {\n",
       "        vertical-align: top;\n",
       "    }\n",
       "\n",
       "    .dataframe thead th {\n",
       "        text-align: right;\n",
       "    }\n",
       "</style>\n",
       "<table border=\"1\" class=\"dataframe\">\n",
       "  <thead>\n",
       "    <tr style=\"text-align: right;\">\n",
       "      <th></th>\n",
       "      <th>recency</th>\n",
       "      <th>frequency</th>\n",
       "      <th>monetary</th>\n",
       "      <th>duration</th>\n",
       "      <th>avg_price</th>\n",
       "      <th>max_price</th>\n",
       "    </tr>\n",
       "    <tr>\n",
       "      <th>customer_id</th>\n",
       "      <th></th>\n",
       "      <th></th>\n",
       "      <th></th>\n",
       "      <th></th>\n",
       "      <th></th>\n",
       "      <th></th>\n",
       "    </tr>\n",
       "  </thead>\n",
       "  <tbody>\n",
       "    <tr>\n",
       "      <th>1</th>\n",
       "      <td>-424</td>\n",
       "      <td>1</td>\n",
       "      <td>11.77</td>\n",
       "      <td>0</td>\n",
       "      <td>11.770000</td>\n",
       "      <td>11.77</td>\n",
       "    </tr>\n",
       "    <tr>\n",
       "      <th>2</th>\n",
       "      <td>-413</td>\n",
       "      <td>2</td>\n",
       "      <td>89.00</td>\n",
       "      <td>0</td>\n",
       "      <td>44.500000</td>\n",
       "      <td>77.00</td>\n",
       "    </tr>\n",
       "    <tr>\n",
       "      <th>3</th>\n",
       "      <td>-423</td>\n",
       "      <td>5</td>\n",
       "      <td>139.47</td>\n",
       "      <td>327</td>\n",
       "      <td>27.894000</td>\n",
       "      <td>57.45</td>\n",
       "    </tr>\n",
       "    <tr>\n",
       "      <th>4</th>\n",
       "      <td>-424</td>\n",
       "      <td>4</td>\n",
       "      <td>100.50</td>\n",
       "      <td>345</td>\n",
       "      <td>25.125000</td>\n",
       "      <td>29.73</td>\n",
       "    </tr>\n",
       "    <tr>\n",
       "      <th>5</th>\n",
       "      <td>-424</td>\n",
       "      <td>11</td>\n",
       "      <td>385.61</td>\n",
       "      <td>367</td>\n",
       "      <td>35.055455</td>\n",
       "      <td>46.46</td>\n",
       "    </tr>\n",
       "    <tr>\n",
       "      <th>...</th>\n",
       "      <td>...</td>\n",
       "      <td>...</td>\n",
       "      <td>...</td>\n",
       "      <td>...</td>\n",
       "      <td>...</td>\n",
       "      <td>...</td>\n",
       "    </tr>\n",
       "    <tr>\n",
       "      <th>23566</th>\n",
       "      <td>-341</td>\n",
       "      <td>1</td>\n",
       "      <td>36.00</td>\n",
       "      <td>0</td>\n",
       "      <td>36.000000</td>\n",
       "      <td>36.00</td>\n",
       "    </tr>\n",
       "    <tr>\n",
       "      <th>23567</th>\n",
       "      <td>-341</td>\n",
       "      <td>1</td>\n",
       "      <td>20.97</td>\n",
       "      <td>0</td>\n",
       "      <td>20.970000</td>\n",
       "      <td>20.97</td>\n",
       "    </tr>\n",
       "    <tr>\n",
       "      <th>23568</th>\n",
       "      <td>-341</td>\n",
       "      <td>3</td>\n",
       "      <td>121.70</td>\n",
       "      <td>28</td>\n",
       "      <td>40.566667</td>\n",
       "      <td>83.74</td>\n",
       "    </tr>\n",
       "    <tr>\n",
       "      <th>23569</th>\n",
       "      <td>-341</td>\n",
       "      <td>1</td>\n",
       "      <td>25.74</td>\n",
       "      <td>0</td>\n",
       "      <td>25.740000</td>\n",
       "      <td>25.74</td>\n",
       "    </tr>\n",
       "    <tr>\n",
       "      <th>23570</th>\n",
       "      <td>-341</td>\n",
       "      <td>2</td>\n",
       "      <td>94.08</td>\n",
       "      <td>1</td>\n",
       "      <td>47.040000</td>\n",
       "      <td>51.12</td>\n",
       "    </tr>\n",
       "  </tbody>\n",
       "</table>\n",
       "<p>23570 rows × 6 columns</p>\n",
       "</div>"
      ],
      "text/plain": [
       "             recency  frequency  monetary  duration  avg_price  max_price\n",
       "customer_id                                                              \n",
       "1               -424          1     11.77         0  11.770000      11.77\n",
       "2               -413          2     89.00         0  44.500000      77.00\n",
       "3               -423          5    139.47       327  27.894000      57.45\n",
       "4               -424          4    100.50       345  25.125000      29.73\n",
       "5               -424         11    385.61       367  35.055455      46.46\n",
       "...              ...        ...       ...       ...        ...        ...\n",
       "23566           -341          1     36.00         0  36.000000      36.00\n",
       "23567           -341          1     20.97         0  20.970000      20.97\n",
       "23568           -341          3    121.70        28  40.566667      83.74\n",
       "23569           -341          1     25.74         0  25.740000      25.74\n",
       "23570           -341          2     94.08         1  47.040000      51.12\n",
       "\n",
       "[23570 rows x 6 columns]"
      ]
     },
     "execution_count": 23,
     "metadata": {},
     "output_type": "execute_result"
    }
   ],
   "source": [
    "rfm_training"
   ]
  },
  {
   "cell_type": "code",
   "execution_count": 24,
   "metadata": {},
   "outputs": [
    {
     "data": {
      "text/plain": [
       "Index(['customer_id', 'date', 'quantity', 'price'], dtype='object')"
      ]
     },
     "execution_count": 24,
     "metadata": {},
     "output_type": "execute_result"
    }
   ],
   "source": [
    "testing_set.columns"
   ]
  },
  {
   "cell_type": "code",
   "execution_count": 25,
   "metadata": {},
   "outputs": [
    {
     "data": {
      "text/html": [
       "<div>\n",
       "<style scoped>\n",
       "    .dataframe tbody tr th:only-of-type {\n",
       "        vertical-align: middle;\n",
       "    }\n",
       "\n",
       "    .dataframe tbody tr th {\n",
       "        vertical-align: top;\n",
       "    }\n",
       "\n",
       "    .dataframe thead th {\n",
       "        text-align: right;\n",
       "    }\n",
       "</style>\n",
       "<table border=\"1\" class=\"dataframe\">\n",
       "  <thead>\n",
       "    <tr style=\"text-align: right;\">\n",
       "      <th></th>\n",
       "      <th>spend_total</th>\n",
       "      <th>n_days_spend?</th>\n",
       "    </tr>\n",
       "    <tr>\n",
       "      <th>customer_id</th>\n",
       "      <th></th>\n",
       "      <th></th>\n",
       "    </tr>\n",
       "  </thead>\n",
       "  <tbody>\n",
       "    <tr>\n",
       "      <th>3</th>\n",
       "      <td>16.99</td>\n",
       "      <td>1</td>\n",
       "    </tr>\n",
       "    <tr>\n",
       "      <th>7</th>\n",
       "      <td>138.50</td>\n",
       "      <td>1</td>\n",
       "    </tr>\n",
       "    <tr>\n",
       "      <th>8</th>\n",
       "      <td>24.46</td>\n",
       "      <td>1</td>\n",
       "    </tr>\n",
       "    <tr>\n",
       "      <th>9</th>\n",
       "      <td>41.98</td>\n",
       "      <td>1</td>\n",
       "    </tr>\n",
       "    <tr>\n",
       "      <th>25</th>\n",
       "      <td>73.43</td>\n",
       "      <td>1</td>\n",
       "    </tr>\n",
       "    <tr>\n",
       "      <th>...</th>\n",
       "      <td>...</td>\n",
       "      <td>...</td>\n",
       "    </tr>\n",
       "    <tr>\n",
       "      <th>23534</th>\n",
       "      <td>10.48</td>\n",
       "      <td>1</td>\n",
       "    </tr>\n",
       "    <tr>\n",
       "      <th>23537</th>\n",
       "      <td>25.98</td>\n",
       "      <td>1</td>\n",
       "    </tr>\n",
       "    <tr>\n",
       "      <th>23555</th>\n",
       "      <td>77.44</td>\n",
       "      <td>1</td>\n",
       "    </tr>\n",
       "    <tr>\n",
       "      <th>23556</th>\n",
       "      <td>28.98</td>\n",
       "      <td>1</td>\n",
       "    </tr>\n",
       "    <tr>\n",
       "      <th>23561</th>\n",
       "      <td>37.05</td>\n",
       "      <td>1</td>\n",
       "    </tr>\n",
       "  </tbody>\n",
       "</table>\n",
       "<p>4284 rows × 2 columns</p>\n",
       "</div>"
      ],
      "text/plain": [
       "             spend_total  n_days_spend?\n",
       "customer_id                            \n",
       "3                  16.99              1\n",
       "7                 138.50              1\n",
       "8                  24.46              1\n",
       "9                  41.98              1\n",
       "25                 73.43              1\n",
       "...                  ...            ...\n",
       "23534              10.48              1\n",
       "23537              25.98              1\n",
       "23555              77.44              1\n",
       "23556              28.98              1\n",
       "23561              37.05              1\n",
       "\n",
       "[4284 rows x 2 columns]"
      ]
     },
     "execution_count": 25,
     "metadata": {},
     "output_type": "execute_result"
    }
   ],
   "source": [
    "# 3.3 - for Testing Set, Calculate actual spend during the past n days\n",
    "rfm_testing = testing_set[['customer_id','date','price']].groupby('customer_id')[['price']].sum()\n",
    "rfm_testing['n_days_spend?']=1\n",
    "rfm_testing.rename(columns={\"price\":\"spend_total\"})"
   ]
  },
  {
   "cell_type": "code",
   "execution_count": 26,
   "metadata": {},
   "outputs": [
    {
     "data": {
      "text/html": [
       "<div>\n",
       "<style scoped>\n",
       "    .dataframe tbody tr th:only-of-type {\n",
       "        vertical-align: middle;\n",
       "    }\n",
       "\n",
       "    .dataframe tbody tr th {\n",
       "        vertical-align: top;\n",
       "    }\n",
       "\n",
       "    .dataframe thead th {\n",
       "        text-align: right;\n",
       "    }\n",
       "</style>\n",
       "<table border=\"1\" class=\"dataframe\">\n",
       "  <thead>\n",
       "    <tr style=\"text-align: right;\">\n",
       "      <th></th>\n",
       "      <th>recency</th>\n",
       "      <th>frequency</th>\n",
       "      <th>monetary</th>\n",
       "      <th>duration</th>\n",
       "      <th>avg_price</th>\n",
       "      <th>max_price</th>\n",
       "      <th>price</th>\n",
       "      <th>n_days_spend?</th>\n",
       "    </tr>\n",
       "    <tr>\n",
       "      <th>customer_id</th>\n",
       "      <th></th>\n",
       "      <th></th>\n",
       "      <th></th>\n",
       "      <th></th>\n",
       "      <th></th>\n",
       "      <th></th>\n",
       "      <th></th>\n",
       "      <th></th>\n",
       "    </tr>\n",
       "  </thead>\n",
       "  <tbody>\n",
       "    <tr>\n",
       "      <th>1</th>\n",
       "      <td>-424</td>\n",
       "      <td>1</td>\n",
       "      <td>11.77</td>\n",
       "      <td>0</td>\n",
       "      <td>11.770000</td>\n",
       "      <td>11.77</td>\n",
       "      <td>0.00</td>\n",
       "      <td>0.0</td>\n",
       "    </tr>\n",
       "    <tr>\n",
       "      <th>2</th>\n",
       "      <td>-413</td>\n",
       "      <td>2</td>\n",
       "      <td>89.00</td>\n",
       "      <td>0</td>\n",
       "      <td>44.500000</td>\n",
       "      <td>77.00</td>\n",
       "      <td>0.00</td>\n",
       "      <td>0.0</td>\n",
       "    </tr>\n",
       "    <tr>\n",
       "      <th>3</th>\n",
       "      <td>-423</td>\n",
       "      <td>5</td>\n",
       "      <td>139.47</td>\n",
       "      <td>327</td>\n",
       "      <td>27.894000</td>\n",
       "      <td>57.45</td>\n",
       "      <td>16.99</td>\n",
       "      <td>1.0</td>\n",
       "    </tr>\n",
       "    <tr>\n",
       "      <th>4</th>\n",
       "      <td>-424</td>\n",
       "      <td>4</td>\n",
       "      <td>100.50</td>\n",
       "      <td>345</td>\n",
       "      <td>25.125000</td>\n",
       "      <td>29.73</td>\n",
       "      <td>0.00</td>\n",
       "      <td>0.0</td>\n",
       "    </tr>\n",
       "    <tr>\n",
       "      <th>5</th>\n",
       "      <td>-424</td>\n",
       "      <td>11</td>\n",
       "      <td>385.61</td>\n",
       "      <td>367</td>\n",
       "      <td>35.055455</td>\n",
       "      <td>46.46</td>\n",
       "      <td>0.00</td>\n",
       "      <td>0.0</td>\n",
       "    </tr>\n",
       "    <tr>\n",
       "      <th>...</th>\n",
       "      <td>...</td>\n",
       "      <td>...</td>\n",
       "      <td>...</td>\n",
       "      <td>...</td>\n",
       "      <td>...</td>\n",
       "      <td>...</td>\n",
       "      <td>...</td>\n",
       "      <td>...</td>\n",
       "    </tr>\n",
       "    <tr>\n",
       "      <th>23566</th>\n",
       "      <td>-341</td>\n",
       "      <td>1</td>\n",
       "      <td>36.00</td>\n",
       "      <td>0</td>\n",
       "      <td>36.000000</td>\n",
       "      <td>36.00</td>\n",
       "      <td>0.00</td>\n",
       "      <td>0.0</td>\n",
       "    </tr>\n",
       "    <tr>\n",
       "      <th>23567</th>\n",
       "      <td>-341</td>\n",
       "      <td>1</td>\n",
       "      <td>20.97</td>\n",
       "      <td>0</td>\n",
       "      <td>20.970000</td>\n",
       "      <td>20.97</td>\n",
       "      <td>0.00</td>\n",
       "      <td>0.0</td>\n",
       "    </tr>\n",
       "    <tr>\n",
       "      <th>23568</th>\n",
       "      <td>-341</td>\n",
       "      <td>3</td>\n",
       "      <td>121.70</td>\n",
       "      <td>28</td>\n",
       "      <td>40.566667</td>\n",
       "      <td>83.74</td>\n",
       "      <td>0.00</td>\n",
       "      <td>0.0</td>\n",
       "    </tr>\n",
       "    <tr>\n",
       "      <th>23569</th>\n",
       "      <td>-341</td>\n",
       "      <td>1</td>\n",
       "      <td>25.74</td>\n",
       "      <td>0</td>\n",
       "      <td>25.740000</td>\n",
       "      <td>25.74</td>\n",
       "      <td>0.00</td>\n",
       "      <td>0.0</td>\n",
       "    </tr>\n",
       "    <tr>\n",
       "      <th>23570</th>\n",
       "      <td>-341</td>\n",
       "      <td>2</td>\n",
       "      <td>94.08</td>\n",
       "      <td>1</td>\n",
       "      <td>47.040000</td>\n",
       "      <td>51.12</td>\n",
       "      <td>0.00</td>\n",
       "      <td>0.0</td>\n",
       "    </tr>\n",
       "  </tbody>\n",
       "</table>\n",
       "<p>23570 rows × 8 columns</p>\n",
       "</div>"
      ],
      "text/plain": [
       "             recency  frequency  monetary  duration  avg_price  max_price  \\\n",
       "customer_id                                                                 \n",
       "1               -424          1     11.77         0  11.770000      11.77   \n",
       "2               -413          2     89.00         0  44.500000      77.00   \n",
       "3               -423          5    139.47       327  27.894000      57.45   \n",
       "4               -424          4    100.50       345  25.125000      29.73   \n",
       "5               -424         11    385.61       367  35.055455      46.46   \n",
       "...              ...        ...       ...       ...        ...        ...   \n",
       "23566           -341          1     36.00         0  36.000000      36.00   \n",
       "23567           -341          1     20.97         0  20.970000      20.97   \n",
       "23568           -341          3    121.70        28  40.566667      83.74   \n",
       "23569           -341          1     25.74         0  25.740000      25.74   \n",
       "23570           -341          2     94.08         1  47.040000      51.12   \n",
       "\n",
       "             price  n_days_spend?  \n",
       "customer_id                        \n",
       "1             0.00            0.0  \n",
       "2             0.00            0.0  \n",
       "3            16.99            1.0  \n",
       "4             0.00            0.0  \n",
       "5             0.00            0.0  \n",
       "...            ...            ...  \n",
       "23566         0.00            0.0  \n",
       "23567         0.00            0.0  \n",
       "23568         0.00            0.0  \n",
       "23569         0.00            0.0  \n",
       "23570         0.00            0.0  \n",
       "\n",
       "[23570 rows x 8 columns]"
      ]
     },
     "execution_count": 26,
     "metadata": {},
     "output_type": "execute_result"
    }
   ],
   "source": [
    "# 3.4 Combine calculated columns into dataset to be  used for ML\n",
    "ml_dataset_df = rfm_training.merge(rfm_testing, left_index=True, right_index=True, how = \"left\").fillna(0)\n",
    "ml_dataset_df.to_pickle(\"artifacts/ml_dataset_df.pkl\")\n",
    "ml_dataset_df"
   ]
  }
 ],
 "metadata": {
  "kernelspec": {
   "display_name": "marketing",
   "language": "python",
   "name": "python3"
  },
  "language_info": {
   "codemirror_mode": {
    "name": "ipython",
    "version": 3
   },
   "file_extension": ".py",
   "mimetype": "text/x-python",
   "name": "python",
   "nbconvert_exporter": "python",
   "pygments_lexer": "ipython3",
   "version": "3.12.0"
  }
 },
 "nbformat": 4,
 "nbformat_minor": 2
}
